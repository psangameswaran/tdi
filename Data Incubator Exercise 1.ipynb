{
 "cells": [
  {
   "cell_type": "code",
   "execution_count": 25,
   "metadata": {
    "collapsed": false,
    "deletable": true,
    "editable": true
   },
   "outputs": [
    {
     "name": "stdout",
     "output_type": "stream",
     "text": [
      "[1, 2, 3]\n",
      "[3, 2, 3, 1, 2, 1]\n",
      "2.0\n",
      "0.816496580928\n"
     ]
    }
   ],
   "source": [
    "n=3\n",
    "iterables=range(1,n+1)\n",
    "print(iterables)\n",
    "import itertools\n",
    "list=itertools.permutations(iterables)\n",
    "all_gains=[]\n",
    "for iter in list:\n",
    "    gains=iter[-1]\n",
    "    all_gains.append(gains)\n",
    "print(all_gains)\n",
    "import numpy as np\n",
    "gains_mean=np.mean(all_gains)\n",
    "gains_std=np.std(all_gains)\n",
    "print(gains_mean)\n",
    "print(gains_std)\n",
    "    \n"
   ]
  },
  {
   "cell_type": "code",
   "execution_count": 41,
   "metadata": {
    "collapsed": false,
    "deletable": true,
    "editable": true
   },
   "outputs": [
    {
     "name": "stdout",
     "output_type": "stream",
     "text": [
      "[1, 2, 3]\n",
      "[3, 4, 5, 5, 6, 5]\n",
      "4.66666666667\n",
      "1.03279555899\n"
     ]
    }
   ],
   "source": [
    "n=3\n",
    "iterables=range(1,n+1)\n",
    "print(iterables)\n",
    "import itertools\n",
    "import numpy as np\n",
    "list=itertools.permutations(iterables)\n",
    "all_gains=[]\n",
    "for iter in list:\n",
    "    gains=iter[0]+abs(iter[1]-iter[0])+abs(iter[2]-iter[1])\n",
    "    all_gains.append(gains)\n",
    "print(all_gains)\n",
    "gains_mean=np.mean(all_gains)\n",
    "gains_std=np.std(all_gains,ddof=1)\n",
    "print(gains_mean)\n",
    "print(gains_std)"
   ]
  },
  {
   "cell_type": "code",
   "execution_count": 59,
   "metadata": {
    "collapsed": false,
    "deletable": true,
    "editable": true
   },
   "outputs": [
    {
     "name": "stdout",
     "output_type": "stream",
     "text": [
      "[1, 2, 3]\n",
      "(1, 2, 3)\n",
      "1\n",
      "1\n",
      "3\n",
      "(1, 3, 2)\n",
      "2\n",
      "1\n",
      "4\n",
      "(2, 1, 3)\n",
      "1\n",
      "2\n",
      "5\n",
      "(2, 3, 1)\n",
      "1\n",
      "2\n",
      "5\n",
      "(3, 1, 2)\n",
      "2\n",
      "1\n",
      "6\n",
      "(3, 2, 1)\n",
      "1\n",
      "1\n",
      "5\n",
      "[3, 4, 5, 5, 6, 5]\n",
      "4.66666666667\n",
      "1.03279555899\n"
     ]
    }
   ],
   "source": [
    "n=3\n",
    "iterables=range(1,n+1)\n",
    "print(iterables)\n",
    "import itertools\n",
    "import numpy as np\n",
    "list=itertools.permutations(iterables)\n",
    "all_gains=[]\n",
    "for iter in list:\n",
    "    print(iter)\n",
    "    gains=iter[0]\n",
    "    for x in range(1,len(iter)):\n",
    "        gains1=abs(iter[x]-iter[x-1])\n",
    "        print(gains1)\n",
    "        gains=gains+gains1\n",
    "    print(gains)\n",
    "    all_gains.append(gains)\n",
    "print(all_gains)\n",
    "gains_mean=np.mean(all_gains)\n",
    "gains_std=np.std(all_gains,ddof=1)\n",
    "print(gains_mean)\n",
    "print(gains_std)   "
   ]
  },
  {
   "cell_type": "code",
   "execution_count": 3,
   "metadata": {
    "collapsed": false,
    "deletable": true,
    "editable": true
   },
   "outputs": [
    {
     "name": "stdout",
     "output_type": "stream",
     "text": [
      "[1, 2, 3, 4, 5, 6, 7, 8, 9, 10]\n",
      "38.5\n",
      "6.36527123004\n",
      "0.181795634921\n"
     ]
    }
   ],
   "source": [
    "#choose your size n for biggest coin and big for what you consider big gains\n",
    "n=10\n",
    "big=45\n",
    "\n",
    "#code\n",
    "iterables=range(1,n+1)\n",
    "print(iterables)\n",
    "import itertools\n",
    "import numpy as np\n",
    "list=itertools.permutations(iterables)\n",
    "all_gains=[]\n",
    "for iter in list:\n",
    "    gains=iter[0]\n",
    "    for x in range(1,len(iter)):\n",
    "        gains1=abs(iter[x]-iter[x-1])\n",
    "        gains=gains+gains1\n",
    "    all_gains.append(gains)\n",
    "gains_mean=np.mean(all_gains)\n",
    "gains_std=np.std(all_gains,ddof=1)\n",
    "print(gains_mean)\n",
    "print(gains_std) \n",
    "big_gains=[i for i in all_gains if i>=big]\n",
    "num=float(len(big_gains))\n",
    "den=float(len(all_gains))\n",
    "prob=num/den\n",
    "print(prob)"
   ]
  },
  {
   "cell_type": "code",
   "execution_count": 6,
   "metadata": {
    "collapsed": false,
    "deletable": true,
    "editable": true
   },
   "outputs": [
    {
     "name": "stdout",
     "output_type": "stream",
     "text": [
      "[1, 2, 3, 4, 5, 6, 7, 8, 9, 10, 11, 12, 13, 14, 15, 16, 17, 18, 19, 20]\n",
      "143.460001\n",
      "18.4334609304\n",
      "0.197264\n"
     ]
    }
   ],
   "source": [
    "#with n=20 there are too many possibilities so only take random samples of 1MM\n",
    "#choose your size n for biggest coin and big for what you consider big gains\n",
    "n=20\n",
    "big=160\n",
    "\n",
    "#code\n",
    "iterables=range(1,n+1)\n",
    "print(iterables)\n",
    "import itertools\n",
    "import numpy as np\n",
    "list=itertools.permutations(iterables)\n",
    "all_gains=[]\n",
    "for cycle in range(0,1000000):\n",
    "    iter=np.random.permutation(iterables)\n",
    "    gains=iter[0]\n",
    "    for x in range(1,len(iter)):\n",
    "        gains1=abs(iter[x]-iter[x-1])\n",
    "        gains=gains+gains1\n",
    "    all_gains.append(gains)\n",
    "gains_mean=np.mean(all_gains)\n",
    "gains_std=np.std(all_gains,ddof=1)\n",
    "print(gains_mean)\n",
    "print(gains_std) \n",
    "big_gains=[i for i in all_gains if i>=big]\n",
    "num=float(len(big_gains))\n",
    "den=float(len(all_gains))\n",
    "prob=num/den\n",
    "print(prob)"
   ]
  },
  {
   "cell_type": "code",
   "execution_count": null,
   "metadata": {
    "collapsed": true,
    "deletable": true,
    "editable": true
   },
   "outputs": [],
   "source": []
  }
 ],
 "metadata": {
  "kernelspec": {
   "display_name": "Python 2",
   "language": "python",
   "name": "python2"
  },
  "language_info": {
   "codemirror_mode": {
    "name": "ipython",
    "version": 2
   },
   "file_extension": ".py",
   "mimetype": "text/x-python",
   "name": "python",
   "nbconvert_exporter": "python",
   "pygments_lexer": "ipython2",
   "version": "2.7.6"
  }
 },
 "nbformat": 4,
 "nbformat_minor": 2
}
