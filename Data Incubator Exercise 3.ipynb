{
 "cells": [
  {
   "cell_type": "code",
   "execution_count": 1,
   "metadata": {
    "collapsed": false,
    "deletable": true,
    "editable": true
   },
   "outputs": [
    {
     "name": "stdout",
     "output_type": "stream",
     "text": [
      "   YearStart  YearEnd LocationAbbr LocationDesc  \\\n",
      "0       2011     2011           AL      Alabama   \n",
      "1       2011     2011           AL      Alabama   \n",
      "2       2011     2011           AL      Alabama   \n",
      "3       2011     2011           AL      Alabama   \n",
      "4       2011     2011           AL      Alabama   \n",
      "\n",
      "                                   Datasource                    Class  \\\n",
      "0  Behavioral Risk Factor Surveillance System  Obesity / Weight Status   \n",
      "1  Behavioral Risk Factor Surveillance System  Obesity / Weight Status   \n",
      "2  Behavioral Risk Factor Surveillance System  Obesity / Weight Status   \n",
      "3  Behavioral Risk Factor Surveillance System  Obesity / Weight Status   \n",
      "4  Behavioral Risk Factor Surveillance System  Obesity / Weight Status   \n",
      "\n",
      "                     Topic                                           Question  \\\n",
      "0  Obesity / Weight Status  Percent of adults aged 18 years and older who ...   \n",
      "1  Obesity / Weight Status  Percent of adults aged 18 years and older who ...   \n",
      "2  Obesity / Weight Status  Percent of adults aged 18 years and older who ...   \n",
      "3  Obesity / Weight Status  Percent of adults aged 18 years and older who ...   \n",
      "4  Obesity / Weight Status  Percent of adults aged 18 years and older who ...   \n",
      "\n",
      "   Data_Value_Unit Data_Value_Type        ...         \\\n",
      "0              NaN           Value        ...          \n",
      "1              NaN           Value        ...          \n",
      "2              NaN           Value        ...          \n",
      "3              NaN           Value        ...          \n",
      "4              NaN           Value        ...          \n",
      "\n",
      "                               GeoLocation  ClassID TopicID QuestionID  \\\n",
      "0  (32.84057112200048, -86.63186076199969)      OWS    OWS1       Q036   \n",
      "1  (32.84057112200048, -86.63186076199969)      OWS    OWS1       Q036   \n",
      "2  (32.84057112200048, -86.63186076199969)      OWS    OWS1       Q036   \n",
      "3  (32.84057112200048, -86.63186076199969)      OWS    OWS1       Q036   \n",
      "4  (32.84057112200048, -86.63186076199969)      OWS    OWS1       Q036   \n",
      "\n",
      "   DataValueTypeID  LocationID  StratificationCategory1  \\\n",
      "0            VALUE           1                    Total   \n",
      "1            VALUE           1                   Gender   \n",
      "2            VALUE           1                   Gender   \n",
      "3            VALUE           1                Education   \n",
      "4            VALUE           1                Education   \n",
      "\n",
      "         Stratification1 StratificationCategoryId1 StratificationID1  \n",
      "0                  Total                       OVR           OVERALL  \n",
      "1                   Male                       GEN              MALE  \n",
      "2                 Female                       GEN            FEMALE  \n",
      "3  Less than high school                       EDU             EDUHS  \n",
      "4   High school graduate                       EDU         EDUHSGRAD  \n",
      "\n",
      "[5 rows x 33 columns]\n"
     ]
    },
    {
     "ename": "NameError",
     "evalue": "name 'plt' is not defined",
     "output_type": "error",
     "traceback": [
      "\u001b[0;31m---------------------------------------------------------------------------\u001b[0m",
      "\u001b[0;31mNameError\u001b[0m                                 Traceback (most recent call last)",
      "\u001b[0;32m<ipython-input-1-ac7b6c1a88a4>\u001b[0m in \u001b[0;36m<module>\u001b[0;34m()\u001b[0m\n\u001b[1;32m      7\u001b[0m \u001b[0mdf4\u001b[0m\u001b[0;34m=\u001b[0m\u001b[0mdf3\u001b[0m\u001b[0;34m.\u001b[0m\u001b[0mapply\u001b[0m\u001b[0;34m(\u001b[0m\u001b[0mpd\u001b[0m\u001b[0;34m.\u001b[0m\u001b[0mto_numeric\u001b[0m\u001b[0;34m,\u001b[0m \u001b[0merrors\u001b[0m\u001b[0;34m=\u001b[0m\u001b[0;34m'ignore'\u001b[0m\u001b[0;34m)\u001b[0m\u001b[0;34m\u001b[0m\u001b[0m\n\u001b[1;32m      8\u001b[0m \u001b[0mdf4\u001b[0m\u001b[0;34m.\u001b[0m\u001b[0mplot\u001b[0m\u001b[0;34m(\u001b[0m\u001b[0;34m'YearStart'\u001b[0m\u001b[0;34m,\u001b[0m\u001b[0;34m'Data_Value'\u001b[0m\u001b[0;34m,\u001b[0m\u001b[0mkind\u001b[0m\u001b[0;34m=\u001b[0m\u001b[0;34m'scatter'\u001b[0m\u001b[0;34m)\u001b[0m\u001b[0;34m\u001b[0m\u001b[0m\n\u001b[0;32m----> 9\u001b[0;31m \u001b[0mplt\u001b[0m\u001b[0;34m.\u001b[0m\u001b[0mshow\u001b[0m\u001b[0;34m(\u001b[0m\u001b[0;34m)\u001b[0m\u001b[0;34m\u001b[0m\u001b[0m\n\u001b[0m",
      "\u001b[0;31mNameError\u001b[0m: name 'plt' is not defined"
     ]
    }
   ],
   "source": [
    "import pandas as pd\n",
    "data = pd.read_csv('/home/psangam/obesity.csv')\n",
    "df=pd.DataFrame(data)\n",
    "print(df.head())\n",
    "df2=df[df['StratificationCategory1']=='Total']\n",
    "df3=df2[df2['Question']=='Percent of adults aged 18 years and older who are obese']\n",
    "df4=df3.apply(pd.to_numeric, errors='ignore')\n",
    "df4.plot('YearStart','Data_Value',kind='scatter')\n",
    "plt.show()"
   ]
  },
  {
   "cell_type": "code",
   "execution_count": null,
   "metadata": {
    "collapsed": true,
    "deletable": true,
    "editable": true
   },
   "outputs": [],
   "source": []
  },
  {
   "cell_type": "code",
   "execution_count": null,
   "metadata": {
    "collapsed": true,
    "deletable": true,
    "editable": true
   },
   "outputs": [],
   "source": []
  }
 ],
 "metadata": {
  "kernelspec": {
   "display_name": "Python 2",
   "language": "python",
   "name": "python2"
  },
  "language_info": {
   "codemirror_mode": {
    "name": "ipython",
    "version": 2
   },
   "file_extension": ".py",
   "mimetype": "text/x-python",
   "name": "python",
   "nbconvert_exporter": "python",
   "pygments_lexer": "ipython2",
   "version": "2.7.6"
  }
 },
 "nbformat": 4,
 "nbformat_minor": 2
}
